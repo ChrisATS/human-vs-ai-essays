{
 "cells": [
  {
   "cell_type": "markdown",
   "metadata": {},
   "source": [
    "# EDA: Human vs AI Essays\n",
    "\n",
    "Basic exploration of the dataset `balanced_ai_human_prompts.csv`.\n"
   ]
  },
  {
   "cell_type": "code",
   "execution_count": null,
   "id": "4f3f685b",
   "metadata": {},
   "outputs": [],
   "source": [
    "import pandas as pd\n",
    "import matplotlib.pyplot as plt\n",
    "from pathlib import Path\n",
    "\n",
    "data_path = Path('..') / 'data' / 'balanced_ai_human_prompts.csv'\n",
    "df = pd.read_csv(data_path)\n",
    "df.head()"
   ]
  },
  {
   "cell_type": "code",
   "execution_count": null,
   "metadata": {},
   "outputs": [],
   "source": [
    "# Ensure expected columns and normalize label\n",
    "assert 'text' in df.columns and 'generated' in df.columns\n",
    "df['generated'] = df['generated'].astype(str).str.strip().astype(int)\n",
    "df = df[['text','generated']].dropna()\n",
    "df.describe(include='all')"
   ]
  },
  {
   "cell_type": "code",
   "execution_count": null,
   "metadata": {},
   "outputs": [],
   "source": [
    "# Class balance\n",
    "ax = df['generated'].value_counts().sort_index().plot(kind='bar', rot=0, title='Class Balance (0=Human, 1=AI)')\n",
    "ax.set_xlabel('Label')\n",
    "ax.set_ylabel('Count')\n",
    "plt.show()"
   ]
  },
  {
   "cell_type": "code",
   "execution_count": null,
   "metadata": {},
   "outputs": [],
   "source": [
    "# Text length distribution\n",
    "df['length'] = df['text'].astype(str).str.len()\n",
    "ax = df['length'].plot(kind='hist', bins=50, title='Text Length Distribution')\n",
    "ax.set_xlabel('Characters')\n",
    "plt.show()"
   ]
  },
  {
   "cell_type": "code",
   "execution_count": null,
   "metadata": {},
   "outputs": [],
   "source": [
    "# Length by class\n",
    "ax = df.groupby('generated')['length'].plot(kind='kde', legend=True)\n",
    "plt.title('Text Length KDE by Class')\n",
    "plt.xlabel('Characters')\n",
    "plt.legend(['Human (0)','AI (1)'])\n",
    "plt.show()"
   ]
  }
 ],
 "metadata": {
  "kernelspec": {
   "display_name": "Python 3 (ipykernel)",
   "language": "python",
   "name": "python3"
  },
  "language_info": {
   "name": "python",
   "version": "3.12"
  }
 },
 "nbformat": 4,
 "nbformat_minor": 5
}
